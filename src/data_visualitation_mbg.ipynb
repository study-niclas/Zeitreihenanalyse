{
 "cells": [
  {
   "cell_type": "code",
   "execution_count": null,
   "id": "3d56c678",
   "metadata": {},
   "outputs": [],
   "source": [
    "import yfinance as yf\n",
    "import pandas as pd\n",
    "from statsmodels.tsa.stattools import adfuller\n",
    "import matplotlib.pyplot as plt\n",
    "import numpy as np\n",
    "import matplotlib.pyplot as plt\n",
    "\n",
    "ticker = yf.Ticker(\"MBG.DE\")\n",
    "df = ticker.history(period=\"10y\")  # 10 Jahre Rückblick\n",
    "\n",
    "\n",
    "y = df['Close'].dropna()\n",
    "y.plot(title=\"Mercedes-Benz\")\n",
    "plt.ylabel(\"EUR\")\n",
    "plt.show()"
   ]
  },
  {
   "cell_type": "code",
   "execution_count": null,
   "id": "104fb506",
   "metadata": {},
   "outputs": [],
   "source": [
    "import yfinance as yf\n",
    "import pandas as pd\n",
    "import matplotlib.pyplot as plt\n",
    "import matplotlib.dates as mdates\n",
    "from statsmodels.tsa.stattools import adfuller\n",
    "import numpy as np\n",
    "\n",
    "\n",
    "# Daten laden\n",
    "ticker = yf.Ticker(\"MBG.DE\")\n",
    "df = ticker.history(period=\"10y\")\n",
    "df = df.dropna(subset=['Close'])\n",
    "df.index = pd.to_datetime(df.index)\n",
    "df['Year'] = df.index.year\n",
    "\n",
    "# Zeitreihenplot\n",
    "fig, ax = plt.subplots(figsize=(14, 6))\n",
    "ax.plot(df.index, df['Close'], label=\"Schlusskurs\", color='black', linewidth=1)\n",
    "\n",
    "# Jahresstatistiken berechnen\n",
    "grouped = df.groupby('Year')\n",
    "for year, group in grouped:\n",
    "    mean = group['Close'].mean()\n",
    "    std = group['Close'].std()\n",
    "    start, end = group.index.min(), group.index.max()\n",
    "    \n",
    "    # Horizontale Linie für Mittelwert\n",
    "    ax.hlines(mean, xmin=start, xmax=end, color='blue', linestyle='--', linewidth=1.5)\n",
    "    \n",
    "    # Schattierter Bereich für ±1 Standardabweichung\n",
    "    ax.fill_between(group.index, mean - std, mean + std, color='blue', alpha=0.1)\n",
    "    \n",
    "    # Optional: Text oder Marker\n",
    "    ax.text(group.index[int(len(group)/2)], mean + std + 2, f'{year}', ha='center', fontsize=8, color='gray')\n",
    "\n",
    "# Formatierungen\n",
    "ax.set_title(\"Mercedes-Benz\", fontsize=14)\n",
    "ax.set_ylabel(\"EUR\")\n",
    "ax.legend()\n",
    "ax.xaxis.set_major_locator(mdates.YearLocator())\n",
    "ax.xaxis.set_major_formatter(mdates.DateFormatter('%Y'))\n",
    "plt.grid(True)\n",
    "plt.tight_layout()\n",
    "plt.show()\n"
   ]
  },
  {
   "cell_type": "code",
   "execution_count": null,
   "id": "19f40b5a",
   "metadata": {},
   "outputs": [
    {
     "data": {
      "text/plain": [
       "\\begin{table}\n",
       "\\caption{Jährliche Statistik der Schlusskurse für MBG.DE}\n",
       "\\label{tab:jahresstats}\n",
       "\\begin{tabular}{lrrr}\n",
       "\\toprule\n",
       " & Mittelwert & Varianz & Standardabweichung \\\\\n",
       "Year &  &  &  \\\\\n",
       "\\midrule\n",
       "2015 & 37.730000 & 8.540000 & 2.920000 \\\\\n",
       "2016 & 31.720000 & 3.700000 & 1.920000 \\\\\n",
       "2017 & 36.110000 & 2.790000 & 1.670000 \\\\\n",
       "2018 & 34.480000 & 14.820000 & 3.850000 \\\\\n",
       "2019 & 30.180000 & 3.940000 & 1.990000 \\\\\n",
       "2020 & 26.470000 & 36.690000 & 6.060000 \\\\\n",
       "2021 & 49.170000 & 31.110000 & 5.580000 \\\\\n",
       "2022 & 51.890000 & 15.830000 & 3.980000 \\\\\n",
       "2023 & 61.330000 & 18.040000 & 4.250000 \\\\\n",
       "2024 & 61.230000 & 29.280000 & 5.410000 \\\\\n",
       "2025 & 56.110000 & 15.030000 & 3.880000 \\\\\n",
       "\\bottomrule\n",
       "\\end{tabular}\n",
       "\\end{table}\n",
       "\n"
      ]
     },
     "metadata": {},
     "output_type": "display_data"
    }
   ],
   "source": [
    "# Jahresstatistiken berechnen\n",
    "yearly_stats = df.groupby('Year')['Close'].agg(\n",
    "    Mittelwert='mean',\n",
    "    Varianz='var',\n",
    "    Standardabweichung='std'\n",
    ")\n",
    "\n",
    "# Optional: auf zwei Nachkommastellen runden\n",
    "yearly_stats = yearly_stats.round(2)\n",
    "\n",
    "# Tabelle anzeigen\n",
    "# LaTeX-Tabelle\n",
    "#print(yearly_stats.to_latex(index=True, caption='Jährliche Statistik der Schlusskurse für MBG.DE', label='tab:jahresstats'))\n",
    "print(yearly_stats)\n"
   ]
  },
  {
   "cell_type": "code",
   "execution_count": null,
   "id": "cad44955",
   "metadata": {},
   "outputs": [
    {
     "data": {
      "text/plain": [
       "0.5806842697198882\n",
       "1: 0.0 \n"
      ]
     },
     "metadata": {},
     "output_type": "display_data"
    }
   ],
   "source": [
    "p_value = adfuller(y)[1]\n",
    "print(p_value)\n",
    "differentiation_order = 0\n",
    "while p_value > 0.05:  # Solange die Zeitreihe nicht stationär ist\n",
    "    # Erste Differenzierung durchführen\n",
    "    y = y.diff().dropna()\n",
    "    differentiation_order += 1\n",
    "    p_value= adfuller(y)[1]\n",
    "    print(f\"{differentiation_order}: {p_value} \")\n",
    "\n"
   ]
  },
  {
   "cell_type": "code",
   "execution_count": null,
   "id": "80ef20c8",
   "metadata": {},
   "outputs": [],
   "source": [
    "# Beispiel: Log-Transformation + Differenzierung\n",
    "y_log = np.log(y)\n",
    "y_stationary = y_log.diff().dropna()\n",
    "\n",
    "# Plot der transformierten Zeitreihe\n",
    "y_stationary.plot(title='Transformierte Zeitreihe', figsize=(10, 5))\n",
    "plt.grid(True)\n",
    "plt.show()"
   ]
  }
 ],
 "metadata": {
  "language_info": {
   "name": "python"
  }
 },
 "nbformat": 4,
 "nbformat_minor": 5
}
